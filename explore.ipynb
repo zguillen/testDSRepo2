{
 "cells": [
  {
   "cell_type": "code",
   "execution_count": null,
   "id": "b2f7ec1d-5888-42cc-8ed9-5f77f35d9737",
   "metadata": {},
   "outputs": [],
   "source": [
    "This is a new notebook file"
   ]
  }
 ],
 "metadata": {
  "kernelspec": {
   "display_name": "Python 3 (ipykernel)",
   "language": "python",
   "name": "python3"
  },
  "language_info": {
   "codemirror_mode": {
    "name": "ipython",
    "version": 3
   },
   "file_extension": ".py",
   "mimetype": "text/x-python",
   "name": "python",
   "nbconvert_exporter": "python",
   "pygments_lexer": "ipython3",
   "version": "3.11.8"
  }
 },
 "nbformat": 4,
 "nbformat_minor": 5
}
